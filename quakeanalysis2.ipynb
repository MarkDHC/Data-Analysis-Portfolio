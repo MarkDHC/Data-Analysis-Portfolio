{
 "cells": [
  {
   "cell_type": "code",
   "execution_count": null,
   "metadata": {},
   "outputs": [],
   "source": [
    "import pandas as pd\n",
    "import seaborn as sns\n",
    "import matplotlib.pyplot as plt\n",
    "import numpy as np"
   ]
  },
  {
   "cell_type": "code",
   "execution_count": null,
   "metadata": {},
   "outputs": [],
   "source": [
    "df = pd.read_csv(\"earthquakes database NEIC.csv\")"
   ]
  },
  {
   "cell_type": "code",
   "execution_count": null,
   "metadata": {},
   "outputs": [],
   "source": [
    "# Display the first 10 rows of the DataFrame\n",
    "df.head(10)"
   ]
  },
  {
   "cell_type": "code",
   "execution_count": null,
   "metadata": {},
   "outputs": [],
   "source": [
    "df.info()"
   ]
  },
  {
   "cell_type": "code",
   "execution_count": null,
   "metadata": {},
   "outputs": [],
   "source": [
    "# Check for missing values\n",
    "missing_values = df.isnull().sum()\n",
    "display(\"Missing Values:\")\n",
    "display(missing_values)\n"
   ]
  },
  {
   "cell_type": "code",
   "execution_count": null,
   "metadata": {},
   "outputs": [],
   "source": [
    "# Check for duplicate entries\n",
    "duplicate_entries = df.duplicated().sum()\n",
    "display(\"Number of Duplicate Entries:\", duplicate_entries)"
   ]
  },
  {
   "cell_type": "code",
   "execution_count": null,
   "metadata": {},
   "outputs": [],
   "source": [
    "# Convert data types if needed\n",
    "df['Latitude'] = pd.to_numeric(df['Latitude'], errors='coerce')\n",
    "df['Longitude'] = pd.to_numeric(df['Longitude'], errors='coerce')"
   ]
  },
  {
   "cell_type": "code",
   "execution_count": null,
   "metadata": {},
   "outputs": [],
   "source": [
    "# Drop rows with missing latitude or longitude values\n",
    "df = df.dropna(subset=['Latitude', 'Longitude'])"
   ]
  },
  {
   "cell_type": "code",
   "execution_count": null,
   "metadata": {},
   "outputs": [],
   "source": [
    "# Display the first few rows of the cleaned DataFrame\n",
    "display(\"Cleaned DataFrame:\")\n",
    "display(df.head())"
   ]
  },
  {
   "cell_type": "code",
   "execution_count": null,
   "metadata": {},
   "outputs": [],
   "source": [
    "# Calculate basic summary statistics for numerical columns: elevation, latitude, and longitude\n",
    "numerical_columns_summary = df[['Magnitude', 'Latitude', 'Longitude']].describe()"
   ]
  },
  {
   "cell_type": "code",
   "execution_count": null,
   "metadata": {},
   "outputs": [],
   "source": [
    "# Calculate range for each numerical column as the difference between max and min\n",
    "numerical_columns_range = df[['Magnitude', 'Latitude', 'Longitude']].max() - df[['Magnitude', 'Latitude', 'Longitude']].min()"
   ]
  },
  {
   "cell_type": "code",
   "execution_count": null,
   "metadata": {},
   "outputs": [],
   "source": [
    "# Append range to the summary statistics\n",
    "numerical_columns_summary.loc['range'] = numerical_columns_range"
   ]
  },
  {
   "cell_type": "code",
   "execution_count": null,
   "metadata": {},
   "outputs": [],
   "source": [
    "numerical_columns_summary"
   ]
  },
  {
   "cell_type": "code",
   "execution_count": null,
   "metadata": {},
   "outputs": [],
   "source": [
    "# Calculate basic summary statistics for numerical columns: elevation, latitude, and longitude\n",
    "numerical_columns_summary = df[['Magnitude', 'Latitude', 'Longitude']].describe()\n",
    "\n",
    "# Calculate range for each numerical column as the difference between max and min\n",
    "numerical_columns_range = df[['Magnitude', 'Latitude', 'Longitude']].max() - df[['Magnitude', 'Latitude', 'Longitude']].min()\n",
    "\n",
    "# Append range to the summary statistics\n",
    "numerical_columns_summary.loc['range'] = numerical_columns_range\n",
    "\n",
    "numerical_columns_summary"
   ]
  },
  {
   "cell_type": "code",
   "execution_count": null,
   "metadata": {},
   "outputs": [],
   "source": [
    "import matplotlib.pyplot as plt\n",
    "import seaborn as sns"
   ]
  },
  {
   "cell_type": "code",
   "execution_count": null,
   "metadata": {},
   "outputs": [],
   "source": [
    "# Explore the distribution of categorical variables: Magnitude_Type\n",
    "magnitude_type_distribution = df['Magnitude Type'].value_counts()\n",
    "\n",
    "(magnitude_type_distribution)"
   ]
  },
  {
   "cell_type": "code",
   "execution_count": null,
   "metadata": {},
   "outputs": [],
   "source": [
    "import matplotlib.pyplot as plt\n",
    "import seaborn as sns"
   ]
  },
  {
   "cell_type": "code",
   "execution_count": null,
   "metadata": {},
   "outputs": [],
   "source": [
    "# Set the aesthetic style of the plots\n",
    "sns.set_style(\"whitegrid\")\n",
    "\n",
    "# Visualization: Magnitude vs Depth\n",
    "fig, ax = plt.subplots(figsize=(7, 6))\n",
    "\n",
    "# Scatter plot of magnitude vs depth\n",
    "sns.scatterplot(x='Magnitude', y='Depth', data=df, ax=ax)\n",
    "ax.set_title('Magnitude vs Depth of Earthquakes')\n",
    "ax.set_xlabel('Magnitude (m)')\n",
    "ax.set_ylabel('Depth')\n",
    "\n",
    "plt.tight_layout()\n",
    "plt.show()"
   ]
  },
  {
   "cell_type": "code",
   "execution_count": null,
   "metadata": {},
   "outputs": [],
   "source": [
    "pip install pandas geopy"
   ]
  },
  {
   "cell_type": "code",
   "execution_count": null,
   "metadata": {},
   "outputs": [],
   "source": [
    "pip install tqdm"
   ]
  },
  {
   "cell_type": "code",
   "execution_count": null,
   "metadata": {},
   "outputs": [],
   "source": [
    "pip install bokeh\n"
   ]
  },
  {
   "cell_type": "code",
   "execution_count": null,
   "metadata": {},
   "outputs": [],
   "source": [
    "from bokeh.plotting import figure, show, output_notebook\n",
    "from bokeh.models import ColumnDataSource, LinearColorMapper, ColorBar\n",
    "from bokeh.transform import transform\n",
    "import numpy as np\n",
    "import pandas as pd\n",
    "\n",
    "# Ensure output is displayed in the notebook\n",
    "output_notebook()\n",
    "\n",
    "# Load your data (replace 'your_data.csv' with your actual data file)\n",
    "# Assuming your data has columns: 'Latitude', 'Longitude', and 'Magnitude'\n",
    "# Replace this line with your actual data loading code\n",
    "df = pd.read_csv('earthquakes database NEIC.csv')\n",
    "\n",
    "# Convert lat/lon to Web Mercator coordinates\n",
    "def wgs84_to_web_mercator(df, lon=\"Longitude\", lat=\"Latitude\"):\n",
    "    k = 6378137\n",
    "    df[\"Longitude\"] = df[lon] * (k * np.pi / 180.0)\n",
    "    df[\"Latitude\"] = np.log(np.tan((90 + df[lat]) * np.pi / 360.0)) * k\n",
    "    return df\n",
    "\n",
    "df = wgs84_to_web_mercator(df)\n",
    "\n",
    "# Define the color mapper: linear mapping from elevations to a color palette\n",
    "color_mapper = LinearColorMapper(palette=\"Viridis256\", low=df['Magnitude'].min(), high=df['Magnitude'].max())\n",
    "\n",
    "# Set up the figure\n",
    "p = figure(title=\"Volcano Locations by Elevation\", x_axis_type=\"mercator\", y_axis_type=\"mercator\",\n",
    "           x_axis_label=\"Longitude\", y_axis_label=\"Latitude\", sizing_mode=\"scale_width\", height=400)\n",
    "\n",
    "# Add points using 'circle' glyphs, color by elevation\n",
    "p.circle(x=\"Longitude\", y=\"Latitude\", source=ColumnDataSource(df),\n",
    "         size=5, color=transform('Magnitude', color_mapper), alpha=0.6)\n",
    "\n",
    "# Show the plot\n",
    "show(p)\n"
   ]
  },
  {
   "cell_type": "code",
   "execution_count": null,
   "metadata": {},
   "outputs": [],
   "source": []
  },
  {
   "cell_type": "code",
   "execution_count": null,
   "metadata": {},
   "outputs": [],
   "source": [
    "pip install folium\n"
   ]
  },
  {
   "cell_type": "code",
   "execution_count": null,
   "metadata": {},
   "outputs": [],
   "source": [
    "import folium\n",
    "import pandas as pd\n",
    "import numpy as np  # Don't forget to import NumPy!\n",
    "\n",
    "# Load your data (replace 'your_data.csv' with your actual data file)\n",
    "# Assuming your data has columns: 'Latitude', 'Longitude', and 'Magnitude'\n",
    "# Replace this line with your actual data loading code\n",
    "df = pd.read_csv('earthquakes database NEIC.csv')\n",
    "\n",
    "# Convert lat/lon to Web Mercator coordinates\n",
    "def wgs84_to_web_mercator(row):\n",
    "    lon, lat = row['Longitude'], row['Latitude']\n",
    "    k = 6378137\n",
    "    x = lon * (k * np.pi / 180.0)\n",
    "    y = np.log(np.tan((90 + lat) * np.pi / 360.0)) * k\n",
    "    return x, y\n",
    "\n",
    "df['x'], df['y'] = zip(*df.apply(wgs84_to_web_mercator, axis=1))\n",
    "\n",
    "# Create a Folium map centered at a specific location (you can adjust this)\n",
    "m = folium.Map(location=[df['Latitude'].mean(), df['Longitude'].mean()], zoom_start=5)\n",
    "\n",
    "# Add circle markers to the map\n",
    "for _, row in df.iterrows():\n",
    "    folium.CircleMarker(\n",
    "        location=[row['Latitude'], row['Longitude']],\n",
    "        radius=5,\n",
    "        color='blue',\n",
    "        fill=True,\n",
    "        fill_color='blue',\n",
    "        fill_opacity=0.6,\n",
    "        popup=f\"Magnitude: {row['Magnitude']}\"\n",
    "    ).add_to(m)\n",
    "\n",
    "# Display the map\n",
    "m\n"
   ]
  },
  {
   "cell_type": "code",
   "execution_count": null,
   "metadata": {},
   "outputs": [],
   "source": [
    "import folium\n",
    "import pandas as pd\n",
    "import numpy as np\n",
    "\n",
    "# Load your data (replace 'your_data.csv' with your actual data file)\n",
    "# Assuming your data has columns: 'Latitude', 'Longitude', and 'Magnitude'\n",
    "# Replace this line with your actual data loading code\n",
    "df = pd.read_csv('earthquakes database NEIC.csv')\n",
    "\n",
    "# Convert lat/lon to Web Mercator coordinates\n",
    "def wgs84_to_web_mercator(row):\n",
    "    lon, lat = row['Longitude'], row['Latitude']\n",
    "    k = 6378137\n",
    "    x = lon * (k * np.pi / 180.0)\n",
    "    y = np.log(np.tan((90 + lat) * np.pi / 360.0)) * k\n",
    "    return x, y\n",
    "\n",
    "df['x'], df['y'] = zip(*df.apply(wgs84_to_web_mercator, axis=1))\n",
    "\n",
    "# Define color gradient (yellow to red) based on Magnitude\n",
    "color_scale = folium.LinearColormap(colors=['yellow', 'red'], vmin=df['Magnitude'].min(), vmax=df['Magnitude'].max())\n",
    "\n",
    "# Create a Folium map centered at a specific location (you can adjust this)\n",
    "m = folium.Map(location=[df['Latitude'].mean(), df['Longitude'].mean()], zoom_start=5)\n",
    "\n",
    "# Separate data points by magnitude (higher magnitude on top)\n",
    "high_magnitude_df = df[df['Magnitude'] >= df['Magnitude'].median()]\n",
    "low_magnitude_df = df[df['Magnitude'] < df['Magnitude'].median()]\n",
    "\n",
    "# Adjust the size scaling factor for better visual balance\n",
    "size_scaling_factor = 1.5  # You can tweak this value\n",
    "\n",
    "# Add high magnitude data points first (they will be visually on top)\n",
    "for _, row in high_magnitude_df.iterrows():\n",
    "    folium.CircleMarker(\n",
    "        location=[row['Latitude'], row['Longitude']],\n",
    "        radius=row['Magnitude'] * size_scaling_factor,\n",
    "        color=color_scale(row['Magnitude']),\n",
    "        fill=True,\n",
    "        fill_color=color_scale(row['Magnitude']),\n",
    "        fill_opacity=0.6,\n",
    "        popup=f\"Magnitude: {row['Magnitude']:.2f}\"\n",
    "    ).add_to(m)\n",
    "\n",
    "# Add low magnitude data points afterward\n",
    "for _, row in low_magnitude_df.iterrows():\n",
    "    folium.CircleMarker(\n",
    "        location=[row['Latitude'], row['Longitude']],\n",
    "        radius=row['Magnitude'] * size_scaling_factor,\n",
    "        color=color_scale(row['Magnitude']),\n",
    "        fill=True,\n",
    "        fill_color=color_scale(row['Magnitude']),\n",
    "        fill_opacity=0.6,\n",
    "        popup=f\"Magnitude: {row['Magnitude']:.2f}\"\n",
    "    ).add_to(m)\n",
    "\n",
    "# Add color legend\n",
    "color_scale.caption = 'Magnitude'\n",
    "color_scale.add_to(m)\n",
    "\n",
    "# Display the map\n",
    "m\n"
   ]
  },
  {
   "cell_type": "code",
   "execution_count": null,
   "metadata": {},
   "outputs": [],
   "source": [
    "import folium\n",
    "import pandas as pd\n",
    "import numpy as np\n",
    "\n",
    "# Load your data (replace 'your_data.csv' with your actual data file)\n",
    "# Assuming your data has columns: 'Latitude', 'Longitude', and 'Magnitude'\n",
    "# Replace this line with your actual data loading code\n",
    "df = pd.read_csv('earthquakes database NEIC.csv')\n",
    "\n",
    "# Convert lat/lon to Web Mercator coordinates\n",
    "def wgs84_to_web_mercator(row):\n",
    "    lon, lat = row['Longitude'], row['Latitude']\n",
    "    k = 6378137\n",
    "    x = lon * (k * np.pi / 180.0)\n",
    "    y = np.log(np.tan((90 + lat) * np.pi / 360.0)) * k\n",
    "    return x, y\n",
    "\n",
    "df['x'], df['y'] = zip(*df.apply(wgs84_to_web_mercator, axis=1))\n",
    "\n",
    "# Define color gradient (yellow to red) based on Magnitude\n",
    "color_scale = folium.LinearColormap(colors=['yellow', 'red'], vmin=df['Magnitude'].min(), vmax=df['Magnitude'].max())\n",
    "\n",
    "# Create a Folium map centered at a specific location (you can adjust this)\n",
    "m = folium.Map(location=[df['Latitude'].mean(), df['Longitude'].mean()], zoom_start=5)\n",
    "\n",
    "# Separate data points by magnitude (higher magnitude on top)\n",
    "high_magnitude_df = df[df['Magnitude'] >= df['Magnitude'].median()]\n",
    "low_magnitude_df = df[df['Magnitude'] < df['Magnitude'].median()]\n",
    "\n",
    "# Adjust the size scaling factor for better visual balance\n",
    "size_scaling_factor = 1.5  # You can tweak this value\n",
    "\n",
    "# Add low magnitude data points first\n",
    "for _, row in low_magnitude_df.iterrows():\n",
    "    folium.CircleMarker(\n",
    "        location=[row['Latitude'], row['Longitude']],\n",
    "        radius=row['Magnitude'] * size_scaling_factor,\n",
    "        color=color_scale(row['Magnitude']),\n",
    "        fill=True,\n",
    "        fill_color=color_scale(row['Magnitude']),\n",
    "        fill_opacity=0.6,\n",
    "        popup=f\"Magnitude: {row['Magnitude']:.2f}\"\n",
    "    ).add_to(m)\n",
    "\n",
    "# Add high magnitude data points afterward\n",
    "for _, row in high_magnitude_df.iterrows():\n",
    "    folium.CircleMarker(\n",
    "        location=[row['Latitude'], row['Longitude']],\n",
    "        radius=row['Magnitude'] * size_scaling_factor,\n",
    "        color=color_scale(row['Magnitude']),\n",
    "        fill=True,\n",
    "        fill_color=color_scale(row['Magnitude']),\n",
    "        fill_opacity=0.6,\n",
    "        popup=f\"Magnitude: {row['Magnitude']:.2f}\"\n",
    "    ).add_to(m)\n",
    "\n",
    "# Add color legend\n",
    "color_scale.caption = 'Magnitude'\n",
    "color_scale.add_to(m)\n",
    "\n",
    "# Display the map\n",
    "m\n"
   ]
  }
 ],
 "metadata": {
  "kernelspec": {
   "display_name": "Python 3",
   "language": "python",
   "name": "python3"
  },
  "language_info": {
   "codemirror_mode": {
    "name": "ipython",
    "version": 3
   },
   "file_extension": ".py",
   "mimetype": "text/x-python",
   "name": "python",
   "nbconvert_exporter": "python",
   "pygments_lexer": "ipython3",
   "version": "3.12.4"
  }
 },
 "nbformat": 4,
 "nbformat_minor": 2
}
